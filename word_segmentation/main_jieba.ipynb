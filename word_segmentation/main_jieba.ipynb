{
 "cells": [
  {
   "cell_type": "markdown",
   "id": "8d416882-ccaa-4097-b28c-e05244fc783d",
   "metadata": {},
   "source": [
    "# 结巴分词实践"
   ]
  },
  {
   "cell_type": "markdown",
   "id": "0ae67fb0-8897-4cb5-bea7-1b70b30efc0c",
   "metadata": {},
   "source": [
    "## 结巴分词的三种模式"
   ]
  },
  {
   "cell_type": "markdown",
   "id": "a256808d-f337-4bac-a2e4-92fb78d8bbf9",
   "metadata": {},
   "source": [
    "###  全模式"
   ]
  },
  {
   "cell_type": "code",
   "execution_count": 2,
   "id": "d451834c-ba5e-41bd-a9b5-84f5b868d1b6",
   "metadata": {},
   "outputs": [
    {
     "name": "stderr",
     "output_type": "stream",
     "text": [
      "Building prefix dict from the default dictionary ...\n",
      "Dumping model to file cache C:\\Users\\枫\\AppData\\Local\\Temp\\jieba.cache\n",
      "Loading model cost 0.836 seconds.\n",
      "Prefix dict has been built successfully.\n"
     ]
    },
    {
     "name": "stdout",
     "output_type": "stream",
     "text": [
      "Full Mode:我/来到/北京/清华/清华大学/华大/大学\n"
     ]
    }
   ],
   "source": [
    "import jieba\n",
    "seg_list = jieba.cut(\"我来到北京清华大学\", cut_all=True)\n",
    "print(\"Full Mode:\"+\"/\".join(seg_list))  # 全模式"
   ]
  },
  {
   "cell_type": "markdown",
   "id": "1a165e25-bc97-4f82-87f3-179131ba5667",
   "metadata": {},
   "source": [
    "### 精准模式"
   ]
  },
  {
   "cell_type": "code",
   "execution_count": 8,
   "id": "dfe177d7-e15d-4874-9947-f0b21cd2e8d5",
   "metadata": {},
   "outputs": [
    {
     "name": "stdout",
     "output_type": "stream",
     "text": [
      "Default Mode:我/来到/北京/清华大学\n"
     ]
    }
   ],
   "source": [
    "seg_list = jieba.cut(\"我来到北京清华大学\", cut_all=False)\n",
    "print(\"Default Mode:\"+\"/\".join(seg_list)) # 精准模式"
   ]
  },
  {
   "cell_type": "markdown",
   "id": "7ddc6beb-55a7-4bd3-9ad2-61632223814e",
   "metadata": {},
   "source": [
    "### 搜索引擎模式"
   ]
  },
  {
   "cell_type": "code",
   "execution_count": 11,
   "id": "ea877e3f-42a1-4cf7-99f6-e95aa1ecd9dd",
   "metadata": {},
   "outputs": [
    {
     "name": "stdout",
     "output_type": "stream",
     "text": [
      "小明，硕士，毕业，于，中国，科学，学院，科学院，中国科学院，计算，计算所，,，后，在，日本，京都，大学，日本京都大学，深造\n"
     ]
    }
   ],
   "source": [
    "seg_list = jieba.cut_for_search(\"小明硕士毕业于中国科学院计算所,后在日本京都大学深造\") # 搜索引攀模式\n",
    "print(\"，\".join(seg_list))"
   ]
  },
  {
   "cell_type": "markdown",
   "id": "da35eeee-198b-4ea8-8f14-ae07feef7d9e",
   "metadata": {},
   "source": [
    "## 载入词典"
   ]
  },
  {
   "cell_type": "code",
   "execution_count": 15,
   "id": "3de0b8d9-aa37-421e-83f1-7e3b4a0f1d96",
   "metadata": {},
   "outputs": [
    {
     "name": "stdout",
     "output_type": "stream",
     "text": [
      "Default Mode:黄宇枫/即将/是/自然语言/处理/方面/的/高手\n"
     ]
    }
   ],
   "source": [
    "jieba.load_userdict(\"userdict.txt\")\n",
    "seg_list = jieba.cut(\"黄宇枫即将是自然语言处理方面的高手\", cut_all=False, HMM=False)\n",
    "print(\"Default Mode:\"+\"/\".join(seg_list))"
   ]
  },
  {
   "cell_type": "markdown",
   "id": "91d915d5-d87e-44f1-96a1-16253395d889",
   "metadata": {},
   "source": [
    "## 基于TextRank算法的关键词提取"
   ]
  },
  {
   "cell_type": "code",
   "execution_count": 18,
   "id": "b0c9a021-09a1-4d08-8a7d-8a7d3192d781",
   "metadata": {},
   "outputs": [
    {
     "name": "stdout",
     "output_type": "stream",
     "text": [
      "重点 1.0\n",
      "大学 0.9635631335578456\n",
      "国家 0.9273412563201143\n",
      "河北省 0.6235965850264276\n",
      "共建 0.5433775103953393\n"
     ]
    }
   ],
   "source": [
    "import jieba.analyse\n",
    "s = \"燕山大学是河北省人民政府、教育部、工业和信息化部、国家国防科技工业局四方共建的全国重点大学，河北省重点支持的国家一流大学和世界一流学科建设高校，北京高科大学联盟成员。\"\n",
    "for x, w in jieba.analyse.textrank(s, withWeight=True, topK=5):\n",
    "    print('%s %s' % (x, w))"
   ]
  }
 ],
 "metadata": {
  "kernelspec": {
   "display_name": "Python 3 (ipykernel)",
   "language": "python",
   "name": "python3"
  },
  "language_info": {
   "codemirror_mode": {
    "name": "ipython",
    "version": 3
   },
   "file_extension": ".py",
   "mimetype": "text/x-python",
   "name": "python",
   "nbconvert_exporter": "python",
   "pygments_lexer": "ipython3",
   "version": "3.10.10"
  }
 },
 "nbformat": 4,
 "nbformat_minor": 5
}
