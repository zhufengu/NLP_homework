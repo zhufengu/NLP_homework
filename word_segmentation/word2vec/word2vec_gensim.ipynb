{
 "cells": [
  {
   "cell_type": "code",
   "execution_count": 3,
   "id": "3ec93ec9-72c8-44d3-8cef-cb34aeead4e0",
   "metadata": {},
   "outputs": [
    {
     "name": "stdout",
     "output_type": "stream",
     "text": [
      "模型参数： Word2Vec<vocab=4036, vector_size=300, alpha=0.025> \n",
      "\n"
     ]
    }
   ],
   "source": [
    "# 词向量\n",
    "import pandas as pd\n",
    "import jieba\n",
    "from gensim.models.word2vec import Word2Vec\n",
    "\n",
    "# 读入训练集文件\n",
    "data = pd.read_csv('train.csv')\n",
    "# 转字符串数组\n",
    "corpus = data['comment'].values.astype(str)\n",
    "# 分词，再重组为字符串数组\n",
    "corpus = [jieba.lcut(corpus[index]\n",
    "                     .replace(\"，\", \"\")\n",
    "                     .replace(\"!\", \"\")\n",
    "                     .replace(\"！\", \"\")\n",
    "                     .replace(\"。\", \"\")\n",
    "                     .replace(\"~\", \"\")\n",
    "                     .replace(\"；\", \"\")\n",
    "                     .replace(\"？\", \"\")\n",
    "                     .replace(\"?\", \"\")\n",
    "                     .replace(\"【\", \"\")\n",
    "                     .replace(\"】\", \"\")\n",
    "                     .replace(\"#\", \"\")\n",
    "                     ) for index in range(len(corpus))]\n",
    "# 词向量模型训练\n",
    "# sg: 用于设置训练算法。当 sg=0，使用 CBOW 算法来进行训练；当 sg=1，使用 skip-gram 算法来进行训练。\n",
    "# CBOW 算法\n",
    "model = Word2Vec(corpus, sg=0, vector_size=300, window=5, min_count=3, workers=4)\n",
    "# 模型显示\n",
    "print('模型参数：', model, '\\n')"
   ]
  },
  {
   "cell_type": "code",
   "execution_count": 4,
   "id": "aa3b1ad9-1b34-4ae9-8ce3-1b243870bfc9",
   "metadata": {},
   "outputs": [
    {
     "name": "stdout",
     "output_type": "stream",
     "text": [
      "最匹配的词是： [('小弟', 0.9404109716415405), ('推荐', 0.9403191208839417), ('值得', 0.9289330244064331), ('招待', 0.922656774520874), ('家庭', 0.9161795377731323), ('团购', 0.9156455397605896), ('小资', 0.915090024471283), ('高', 0.9131613373756409), ('热情', 0.9101288318634033), ('位置', 0.9072751998901367)] \n",
      "\n"
     ]
    }
   ],
   "source": [
    "# 最匹配\n",
    "print('最匹配的词是：', model.wv.most_similar(positive=['点赞', '不错'], negative=['难吃']), '\\n')\n",
    "# 最不匹配\n",
    "# print('最不匹配的词是：',model.wv.doesnt_match(\"点赞 好吃 支持 难吃\".split()),'\\n')"
   ]
  },
  {
   "cell_type": "code",
   "execution_count": 5,
   "id": "0e854e5a-e88e-41f1-a2cc-79fc73f05616",
   "metadata": {},
   "outputs": [
    {
     "name": "stdout",
     "output_type": "stream",
     "text": [
      "相似度为= 0.7819495 \n",
      "\n"
     ]
    }
   ],
   "source": [
    "# 语义相似度\n",
    "print('相似度为=', model.wv.similarity('推荐', '好吃'), '\\n')"
   ]
  },
  {
   "cell_type": "code",
   "execution_count": 6,
   "id": "d27cc61d-c963-43a3-aa1c-32d7ce4d1d43",
   "metadata": {},
   "outputs": [
    {
     "name": "stdout",
     "output_type": "stream",
     "text": [
      "[ 0.00251674  0.09338139  0.02040723  0.07778127 -0.06159183 -0.09659836\n",
      "  0.08934072  0.31606612  0.01148257 -0.06119033]\n"
     ]
    }
   ],
   "source": [
    "# 坐标返回  太长了修剪一下  只输出前10维\n",
    "print(model.wv.__getitem__('地道')[:10])"
   ]
  },
  {
   "cell_type": "code",
   "execution_count": 7,
   "id": "3b0e177b-dc13-4451-8346-d3b8eedd8030",
   "metadata": {},
   "outputs": [],
   "source": [
    "# skip-gram 算法\n",
    "model = Word2Vec(corpus, sg=1, vector_size=300, window=5, min_count=3, workers=4)"
   ]
  },
  {
   "cell_type": "code",
   "execution_count": 8,
   "id": "366f1491-c3f6-4655-99d2-325a94f1538f",
   "metadata": {},
   "outputs": [
    {
     "name": "stdout",
     "output_type": "stream",
     "text": [
      "模型参数： Word2Vec<vocab=4036, vector_size=300, alpha=0.025> \n",
      "\n"
     ]
    }
   ],
   "source": [
    "# 模型显示\n",
    "print('模型参数：', model, '\\n')"
   ]
  },
  {
   "cell_type": "code",
   "execution_count": 9,
   "id": "48a1298b-d754-49ad-a203-edaf4006e8cc",
   "metadata": {},
   "outputs": [
    {
     "name": "stdout",
     "output_type": "stream",
     "text": [
      "'环境'的词向量形状： (300,)\n"
     ]
    }
   ],
   "source": [
    "# \"环境\"的词向量形状\n",
    "print(\"'环境'的词向量形状：\", model.wv[\"环境\"].shape)"
   ]
  },
  {
   "cell_type": "code",
   "execution_count": 10,
   "id": "d21acb23-9948-4d39-be44-2e302bd19a00",
   "metadata": {},
   "outputs": [
    {
     "name": "stdout",
     "output_type": "stream",
     "text": [
      "'环境'的词向量前10维：\n",
      " [ 0.13391396  0.16932133 -0.09904398  0.14187849 -0.07878415 -0.223758\n",
      "  0.02099669  0.5238628  -0.21002586 -0.1913392 ]\n"
     ]
    }
   ],
   "source": [
    "# \"环境\"的词向量，太长了修剪一下\n",
    "print(\"'环境'的词向量前10维：\\n\", model.wv[\"环境\"][:10])"
   ]
  },
  {
   "cell_type": "code",
   "execution_count": 11,
   "id": "6f7e5874-34b0-49c9-9e7c-b46c9cda25c7",
   "metadata": {},
   "outputs": [
    {
     "name": "stdout",
     "output_type": "stream",
     "text": [
      "和\"好吃\"语义最接近的三个词： [('入味', 0.844479501247406), ('美味', 0.8375622034072876), ('好看', 0.8332570791244507)] \n",
      "\n"
     ]
    }
   ],
   "source": [
    "# 和\"好吃\"语义最接近的三个词\n",
    "print('和\"好吃\"语义最接近的三个词：', model.wv.most_similar('好吃', topn=3), '\\n')"
   ]
  },
  {
   "cell_type": "code",
   "execution_count": 12,
   "id": "69d3e418-f392-422e-8bb4-832b659a3b54",
   "metadata": {},
   "outputs": [
    {
     "name": "stdout",
     "output_type": "stream",
     "text": [
      "\"好吃\"和\"美味\"的相似度为= 0.8375621 \n",
      "\n"
     ]
    }
   ],
   "source": [
    "# \"好吃\"和\"美味\"的相似度\n",
    "print('\"好吃\"和\"美味\"的相似度为=', model.wv.similarity('好吃', '美味'), '\\n')"
   ]
  },
  {
   "cell_type": "code",
   "execution_count": 13,
   "id": "a8af36e5-4440-47c0-9d3b-81625a03512b",
   "metadata": {},
   "outputs": [
    {
     "name": "stdout",
     "output_type": "stream",
     "text": [
      "\"好吃\"和\"蟑螂\"的相似度为= 0.29887384 \n",
      "\n"
     ]
    }
   ],
   "source": [
    "# \"好吃\"和\"蟑螂\"的相似度\n",
    "print('\"好吃\"和\"蟑螂\"的相似度为=', model.wv.similarity('好吃', '蟑螂'), '\\n')"
   ]
  },
  {
   "cell_type": "code",
   "execution_count": 14,
   "id": "5c7cf0cb-a4ef-49ac-ac13-b01071903294",
   "metadata": {},
   "outputs": [
    {
     "name": "stdout",
     "output_type": "stream",
     "text": [
      "\"餐厅+聚会-安静\"最相关结果： [('家庭聚会', 0.9448115229606628)]\n"
     ]
    }
   ],
   "source": [
    "# \"餐厅+聚会-安静\"最相关结果\n",
    "print('\"餐厅+聚会-安静\"最相关结果：', model.wv.most_similar(positive=['餐厅', '聚会'], negative=['安静'], topn=1))"
   ]
  }
 ],
 "metadata": {
  "kernelspec": {
   "display_name": "Python 3 (ipykernel)",
   "language": "python",
   "name": "python3"
  },
  "language_info": {
   "codemirror_mode": {
    "name": "ipython",
    "version": 3
   },
   "file_extension": ".py",
   "mimetype": "text/x-python",
   "name": "python",
   "nbconvert_exporter": "python",
   "pygments_lexer": "ipython3",
   "version": "3.10.10"
  }
 },
 "nbformat": 4,
 "nbformat_minor": 5
}
